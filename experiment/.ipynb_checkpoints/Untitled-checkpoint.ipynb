{
 "cells": [
  {
   "cell_type": "code",
   "execution_count": 1,
   "id": "c8829535",
   "metadata": {},
   "outputs": [],
   "source": [
    "import pandas as pd\n",
    "import numpy as np\n",
    "pd.set_option(\"display.max_columns\", None)"
   ]
  },
  {
   "cell_type": "code",
   "execution_count": 3,
   "id": "f993b940",
   "metadata": {},
   "outputs": [],
   "source": [
    "anime_1 = pd.read_csv(\"D:\\\\Ds\\\\projects\\\\anime-recommendation\\\\artifacts\\\\anime.csv\")\n",
    "anime_2 = pd.read_csv(\"D:\\\\Ds\\\\projects\\\\anime-recommendation\\\\artifacts\\\\animes.csv\")\n",
    "rating = pd.read_csv('D:\\\\Ds\\\\projects\\\\anime-recommendation\\\\artifacts\\\\rating.csv')"
   ]
  },
  {
   "cell_type": "code",
   "execution_count": 4,
   "id": "a41347b8",
   "metadata": {},
   "outputs": [
    {
     "data": {
      "text/plain": [
       "(12294, 7)"
      ]
     },
     "execution_count": 4,
     "metadata": {},
     "output_type": "execute_result"
    }
   ],
   "source": [
    "anime_1.shape"
   ]
  },
  {
   "cell_type": "code",
   "execution_count": 5,
   "id": "759ec982",
   "metadata": {},
   "outputs": [
    {
     "data": {
      "text/html": [
       "<div>\n",
       "<style scoped>\n",
       "    .dataframe tbody tr th:only-of-type {\n",
       "        vertical-align: middle;\n",
       "    }\n",
       "\n",
       "    .dataframe tbody tr th {\n",
       "        vertical-align: top;\n",
       "    }\n",
       "\n",
       "    .dataframe thead th {\n",
       "        text-align: right;\n",
       "    }\n",
       "</style>\n",
       "<table border=\"1\" class=\"dataframe\">\n",
       "  <thead>\n",
       "    <tr style=\"text-align: right;\">\n",
       "      <th></th>\n",
       "      <th>uid</th>\n",
       "      <th>title</th>\n",
       "      <th>synopsis</th>\n",
       "      <th>genre</th>\n",
       "      <th>aired</th>\n",
       "      <th>episodes</th>\n",
       "      <th>members</th>\n",
       "      <th>popularity</th>\n",
       "      <th>ranked</th>\n",
       "      <th>score</th>\n",
       "      <th>img_url</th>\n",
       "      <th>link</th>\n",
       "    </tr>\n",
       "  </thead>\n",
       "  <tbody>\n",
       "    <tr>\n",
       "      <th>0</th>\n",
       "      <td>28891</td>\n",
       "      <td>Haikyuu!! Second Season</td>\n",
       "      <td>Following their participation at the Inter-Hig...</td>\n",
       "      <td>['Comedy', 'Sports', 'Drama', 'School', 'Shoun...</td>\n",
       "      <td>Oct 4, 2015 to Mar 27, 2016</td>\n",
       "      <td>25.0</td>\n",
       "      <td>489888</td>\n",
       "      <td>141</td>\n",
       "      <td>25.0</td>\n",
       "      <td>8.82</td>\n",
       "      <td>https://cdn.myanimelist.net/images/anime/9/766...</td>\n",
       "      <td>https://myanimelist.net/anime/28891/Haikyuu_Se...</td>\n",
       "    </tr>\n",
       "    <tr>\n",
       "      <th>1</th>\n",
       "      <td>23273</td>\n",
       "      <td>Shigatsu wa Kimi no Uso</td>\n",
       "      <td>Music accompanies the path of the human metron...</td>\n",
       "      <td>['Drama', 'Music', 'Romance', 'School', 'Shoun...</td>\n",
       "      <td>Oct 10, 2014 to Mar 20, 2015</td>\n",
       "      <td>22.0</td>\n",
       "      <td>995473</td>\n",
       "      <td>28</td>\n",
       "      <td>24.0</td>\n",
       "      <td>8.83</td>\n",
       "      <td>https://cdn.myanimelist.net/images/anime/3/671...</td>\n",
       "      <td>https://myanimelist.net/anime/23273/Shigatsu_w...</td>\n",
       "    </tr>\n",
       "    <tr>\n",
       "      <th>2</th>\n",
       "      <td>34599</td>\n",
       "      <td>Made in Abyss</td>\n",
       "      <td>The Abyss—a gaping chasm stretching down into ...</td>\n",
       "      <td>['Sci-Fi', 'Adventure', 'Mystery', 'Drama', 'F...</td>\n",
       "      <td>Jul 7, 2017 to Sep 29, 2017</td>\n",
       "      <td>13.0</td>\n",
       "      <td>581663</td>\n",
       "      <td>98</td>\n",
       "      <td>23.0</td>\n",
       "      <td>8.83</td>\n",
       "      <td>https://cdn.myanimelist.net/images/anime/6/867...</td>\n",
       "      <td>https://myanimelist.net/anime/34599/Made_in_Abyss</td>\n",
       "    </tr>\n",
       "    <tr>\n",
       "      <th>3</th>\n",
       "      <td>5114</td>\n",
       "      <td>Fullmetal Alchemist: Brotherhood</td>\n",
       "      <td>\"In order for something to be obtained, someth...</td>\n",
       "      <td>['Action', 'Military', 'Adventure', 'Comedy', ...</td>\n",
       "      <td>Apr 5, 2009 to Jul 4, 2010</td>\n",
       "      <td>64.0</td>\n",
       "      <td>1615084</td>\n",
       "      <td>4</td>\n",
       "      <td>1.0</td>\n",
       "      <td>9.23</td>\n",
       "      <td>https://cdn.myanimelist.net/images/anime/1223/...</td>\n",
       "      <td>https://myanimelist.net/anime/5114/Fullmetal_A...</td>\n",
       "    </tr>\n",
       "    <tr>\n",
       "      <th>4</th>\n",
       "      <td>31758</td>\n",
       "      <td>Kizumonogatari III: Reiketsu-hen</td>\n",
       "      <td>After helping revive the legendary vampire Kis...</td>\n",
       "      <td>['Action', 'Mystery', 'Supernatural', 'Vampire']</td>\n",
       "      <td>Jan 6, 2017</td>\n",
       "      <td>1.0</td>\n",
       "      <td>214621</td>\n",
       "      <td>502</td>\n",
       "      <td>22.0</td>\n",
       "      <td>8.83</td>\n",
       "      <td>https://cdn.myanimelist.net/images/anime/3/815...</td>\n",
       "      <td>https://myanimelist.net/anime/31758/Kizumonoga...</td>\n",
       "    </tr>\n",
       "  </tbody>\n",
       "</table>\n",
       "</div>"
      ],
      "text/plain": [
       "     uid                             title  \\\n",
       "0  28891           Haikyuu!! Second Season   \n",
       "1  23273           Shigatsu wa Kimi no Uso   \n",
       "2  34599                     Made in Abyss   \n",
       "3   5114  Fullmetal Alchemist: Brotherhood   \n",
       "4  31758  Kizumonogatari III: Reiketsu-hen   \n",
       "\n",
       "                                            synopsis  \\\n",
       "0  Following their participation at the Inter-Hig...   \n",
       "1  Music accompanies the path of the human metron...   \n",
       "2  The Abyss—a gaping chasm stretching down into ...   \n",
       "3  \"In order for something to be obtained, someth...   \n",
       "4  After helping revive the legendary vampire Kis...   \n",
       "\n",
       "                                               genre  \\\n",
       "0  ['Comedy', 'Sports', 'Drama', 'School', 'Shoun...   \n",
       "1  ['Drama', 'Music', 'Romance', 'School', 'Shoun...   \n",
       "2  ['Sci-Fi', 'Adventure', 'Mystery', 'Drama', 'F...   \n",
       "3  ['Action', 'Military', 'Adventure', 'Comedy', ...   \n",
       "4   ['Action', 'Mystery', 'Supernatural', 'Vampire']   \n",
       "\n",
       "                          aired  episodes  members  popularity  ranked  score  \\\n",
       "0   Oct 4, 2015 to Mar 27, 2016      25.0   489888         141    25.0   8.82   \n",
       "1  Oct 10, 2014 to Mar 20, 2015      22.0   995473          28    24.0   8.83   \n",
       "2   Jul 7, 2017 to Sep 29, 2017      13.0   581663          98    23.0   8.83   \n",
       "3    Apr 5, 2009 to Jul 4, 2010      64.0  1615084           4     1.0   9.23   \n",
       "4                   Jan 6, 2017       1.0   214621         502    22.0   8.83   \n",
       "\n",
       "                                             img_url  \\\n",
       "0  https://cdn.myanimelist.net/images/anime/9/766...   \n",
       "1  https://cdn.myanimelist.net/images/anime/3/671...   \n",
       "2  https://cdn.myanimelist.net/images/anime/6/867...   \n",
       "3  https://cdn.myanimelist.net/images/anime/1223/...   \n",
       "4  https://cdn.myanimelist.net/images/anime/3/815...   \n",
       "\n",
       "                                                link  \n",
       "0  https://myanimelist.net/anime/28891/Haikyuu_Se...  \n",
       "1  https://myanimelist.net/anime/23273/Shigatsu_w...  \n",
       "2  https://myanimelist.net/anime/34599/Made_in_Abyss  \n",
       "3  https://myanimelist.net/anime/5114/Fullmetal_A...  \n",
       "4  https://myanimelist.net/anime/31758/Kizumonoga...  "
      ]
     },
     "execution_count": 5,
     "metadata": {},
     "output_type": "execute_result"
    }
   ],
   "source": [
    "anime_2.head()"
   ]
  },
  {
   "cell_type": "code",
   "execution_count": 6,
   "id": "00fab5ad",
   "metadata": {},
   "outputs": [
    {
     "data": {
      "text/plain": [
       "(19311, 12)"
      ]
     },
     "execution_count": 6,
     "metadata": {},
     "output_type": "execute_result"
    }
   ],
   "source": [
    "anime_2.shape"
   ]
  },
  {
   "cell_type": "code",
   "execution_count": 7,
   "id": "442dab55",
   "metadata": {},
   "outputs": [
    {
     "data": {
      "text/plain": [
       "2943"
      ]
     },
     "execution_count": 7,
     "metadata": {},
     "output_type": "execute_result"
    }
   ],
   "source": [
    "anime_2.duplicated().sum()"
   ]
  },
  {
   "cell_type": "code",
   "execution_count": 8,
   "id": "aa437fdd",
   "metadata": {},
   "outputs": [],
   "source": [
    "anime_2 = anime_2.drop_duplicates()"
   ]
  },
  {
   "cell_type": "code",
   "execution_count": 9,
   "id": "4d85701d",
   "metadata": {},
   "outputs": [
    {
     "data": {
      "text/plain": [
       "uid\n",
       "39535    2\n",
       "40129    2\n",
       "40357    2\n",
       "40356    2\n",
       "37522    2\n",
       "        ..\n",
       "24641    2\n",
       "36720    2\n",
       "40738    2\n",
       "40269    2\n",
       "40708    2\n",
       "Name: count, Length: 152, dtype: int64"
      ]
     },
     "execution_count": 9,
     "metadata": {},
     "output_type": "execute_result"
    }
   ],
   "source": [
    "anime_2[\"uid\"].value_counts().sort_values(ascending=False)[anime_2[\"uid\"].value_counts().sort_values(ascending=False) > 1]"
   ]
  },
  {
   "cell_type": "code",
   "execution_count": 10,
   "id": "6a8124ed",
   "metadata": {},
   "outputs": [],
   "source": [
    "anime_2 = anime_2[~anime_2[\"uid\"].duplicated()]"
   ]
  },
  {
   "cell_type": "code",
   "execution_count": 11,
   "id": "bd581f91",
   "metadata": {},
   "outputs": [
    {
     "data": {
      "text/plain": [
       "16216"
      ]
     },
     "execution_count": 11,
     "metadata": {},
     "output_type": "execute_result"
    }
   ],
   "source": [
    "anime_2[\"uid\"].nunique()"
   ]
  },
  {
   "cell_type": "code",
   "execution_count": 12,
   "id": "c4e4f086",
   "metadata": {},
   "outputs": [],
   "source": [
    "anime_2 = anime_2.rename(columns= {\"uid\":\"anime_id\"})"
   ]
  },
  {
   "cell_type": "code",
   "execution_count": 13,
   "id": "1f6eac8b",
   "metadata": {},
   "outputs": [],
   "source": [
    "merged  =anime_2.merge(anime_1, on =\"anime_id\", how=\"inner\")"
   ]
  },
  {
   "cell_type": "code",
   "execution_count": 14,
   "id": "8b07277b",
   "metadata": {},
   "outputs": [
    {
     "data": {
      "text/plain": [
       "(12179, 18)"
      ]
     },
     "execution_count": 14,
     "metadata": {},
     "output_type": "execute_result"
    }
   ],
   "source": [
    "merged.shape"
   ]
  },
  {
   "cell_type": "code",
   "execution_count": 15,
   "id": "711b7510",
   "metadata": {},
   "outputs": [],
   "source": [
    "merged_v2 = merged[['anime_id','title','synopsis','genre_x','aired','episodes_x','score','img_url','type']]"
   ]
  },
  {
   "cell_type": "code",
   "execution_count": 16,
   "id": "ff4cb0bc",
   "metadata": {},
   "outputs": [
    {
     "data": {
      "text/plain": [
       "(7813737, 3)"
      ]
     },
     "execution_count": 16,
     "metadata": {},
     "output_type": "execute_result"
    }
   ],
   "source": [
    "rating.shape"
   ]
  },
  {
   "cell_type": "code",
   "execution_count": 17,
   "id": "c839b43a",
   "metadata": {},
   "outputs": [],
   "source": [
    "merged_v3 = merged_v2[[\"anime_id\", \"title\", \"type\"]].merge(rating, on =\"anime_id\", how=\"inner\")"
   ]
  },
  {
   "cell_type": "code",
   "execution_count": 18,
   "id": "f3874dbe",
   "metadata": {},
   "outputs": [
    {
     "data": {
      "text/plain": [
       "(7783944, 5)"
      ]
     },
     "execution_count": 18,
     "metadata": {},
     "output_type": "execute_result"
    }
   ],
   "source": [
    "merged_v3.shape"
   ]
  },
  {
   "cell_type": "code",
   "execution_count": 19,
   "id": "fbc1a68d",
   "metadata": {},
   "outputs": [
    {
     "data": {
      "text/plain": [
       "anime_id    0\n",
       "title       0\n",
       "type        4\n",
       "user_id     0\n",
       "rating      0\n",
       "dtype: int64"
      ]
     },
     "execution_count": 19,
     "metadata": {},
     "output_type": "execute_result"
    }
   ],
   "source": [
    "merged_v3.isna().sum()"
   ]
  },
  {
   "cell_type": "code",
   "execution_count": 20,
   "id": "c188c564",
   "metadata": {},
   "outputs": [],
   "source": [
    "# merged_v3.nunique()"
   ]
  },
  {
   "cell_type": "markdown",
   "id": "a5341cd9",
   "metadata": {},
   "source": [
    "- total 11097 amines in the dataset\n",
    "- total 73514 unique users\n"
   ]
  },
  {
   "cell_type": "code",
   "execution_count": 21,
   "id": "456cdc4f",
   "metadata": {},
   "outputs": [
    {
     "name": "stdout",
     "output_type": "stream",
     "text": [
      "<class 'pandas.core.frame.DataFrame'>\n",
      "RangeIndex: 7783944 entries, 0 to 7783943\n",
      "Data columns (total 5 columns):\n",
      " #   Column    Dtype \n",
      "---  ------    ----- \n",
      " 0   anime_id  int64 \n",
      " 1   title     object\n",
      " 2   type      object\n",
      " 3   user_id   int64 \n",
      " 4   rating    int64 \n",
      "dtypes: int64(3), object(2)\n",
      "memory usage: 296.9+ MB\n"
     ]
    }
   ],
   "source": [
    "merged_v3.info()"
   ]
  },
  {
   "cell_type": "code",
   "execution_count": 22,
   "id": "b235e7b3",
   "metadata": {},
   "outputs": [],
   "source": [
    "merged_v3[\"rating\"] = merged_v3[\"rating\"].astype('int8')\n",
    "merged_v3[\"anime_id\"] = merged_v3[\"anime_id\"].astype('uint16')\n",
    "merged_v3[\"user_id\"] = merged_v3[\"user_id\"].astype('uint32')\n",
    "\n",
    "merged_v3[\"type\"] = merged_v3[\"type\"].astype('category')\n"
   ]
  },
  {
   "cell_type": "code",
   "execution_count": 23,
   "id": "a4347708",
   "metadata": {},
   "outputs": [
    {
     "name": "stdout",
     "output_type": "stream",
     "text": [
      "<class 'pandas.core.frame.DataFrame'>\n",
      "RangeIndex: 7783944 entries, 0 to 7783943\n",
      "Data columns (total 5 columns):\n",
      " #   Column    Dtype   \n",
      "---  ------    -----   \n",
      " 0   anime_id  uint16  \n",
      " 1   title     object  \n",
      " 2   type      category\n",
      " 3   user_id   uint32  \n",
      " 4   rating    int8    \n",
      "dtypes: category(1), int8(1), object(1), uint16(1), uint32(1)\n",
      "memory usage: 118.8+ MB\n"
     ]
    }
   ],
   "source": [
    "merged_v3.info()"
   ]
  },
  {
   "cell_type": "markdown",
   "id": "55e317e8",
   "metadata": {},
   "source": [
    "- -1 in the rating column represents that the user has watch the anime bit hasnt rated \n"
   ]
  },
  {
   "cell_type": "code",
   "execution_count": 24,
   "id": "b75995d0",
   "metadata": {},
   "outputs": [
    {
     "data": {
      "text/plain": [
       "user_id\n",
       "48766    10140\n",
       "42635     3721\n",
       "53698     2883\n",
       "57620     2685\n",
       "59643     2615\n",
       "         ...  \n",
       "72300        1\n",
       "72980        1\n",
       "73232        1\n",
       "69945        1\n",
       "29483        1\n",
       "Name: count, Length: 73514, dtype: int64"
      ]
     },
     "execution_count": 24,
     "metadata": {},
     "output_type": "execute_result"
    }
   ],
   "source": [
    "merged_v3[\"user_id\"].value_counts()"
   ]
  },
  {
   "cell_type": "code",
   "execution_count": 25,
   "id": "775b13c8",
   "metadata": {
    "scrolled": true
   },
   "outputs": [
    {
     "data": {
      "text/plain": [
       "389197"
      ]
     },
     "execution_count": 25,
     "metadata": {},
     "output_type": "execute_result"
    }
   ],
   "source": [
    "7783944//20"
   ]
  },
  {
   "cell_type": "code",
   "execution_count": 26,
   "id": "d65a31d9",
   "metadata": {},
   "outputs": [],
   "source": [
    "merged_v3['has_rated'] = np.where(merged_v3['rating'] == -1, 0, 1)"
   ]
  },
  {
   "cell_type": "code",
   "execution_count": 27,
   "id": "8fdbf6a3",
   "metadata": {},
   "outputs": [
    {
     "data": {
      "text/plain": [
       "Index(['anime_id', 'title', 'synopsis', 'genre_x', 'aired', 'episodes_x',\n",
       "       'score', 'img_url', 'type'],\n",
       "      dtype='object')"
      ]
     },
     "execution_count": 27,
     "metadata": {},
     "output_type": "execute_result"
    }
   ],
   "source": [
    "merged_v2.columns"
   ]
  },
  {
   "cell_type": "code",
   "execution_count": 28,
   "id": "759d415d",
   "metadata": {},
   "outputs": [
    {
     "data": {
      "text/html": [
       "<div>\n",
       "<style scoped>\n",
       "    .dataframe tbody tr th:only-of-type {\n",
       "        vertical-align: middle;\n",
       "    }\n",
       "\n",
       "    .dataframe tbody tr th {\n",
       "        vertical-align: top;\n",
       "    }\n",
       "\n",
       "    .dataframe thead th {\n",
       "        text-align: right;\n",
       "    }\n",
       "</style>\n",
       "<table border=\"1\" class=\"dataframe\">\n",
       "  <thead>\n",
       "    <tr style=\"text-align: right;\">\n",
       "      <th></th>\n",
       "      <th>anime_id</th>\n",
       "      <th>title</th>\n",
       "      <th>type</th>\n",
       "      <th>user_id</th>\n",
       "      <th>rating</th>\n",
       "      <th>has_rated</th>\n",
       "    </tr>\n",
       "  </thead>\n",
       "  <tbody>\n",
       "    <tr>\n",
       "      <th>0</th>\n",
       "      <td>28891</td>\n",
       "      <td>Haikyuu!! Second Season</td>\n",
       "      <td>TV</td>\n",
       "      <td>3</td>\n",
       "      <td>9</td>\n",
       "      <td>1</td>\n",
       "    </tr>\n",
       "    <tr>\n",
       "      <th>1</th>\n",
       "      <td>28891</td>\n",
       "      <td>Haikyuu!! Second Season</td>\n",
       "      <td>TV</td>\n",
       "      <td>5</td>\n",
       "      <td>9</td>\n",
       "      <td>1</td>\n",
       "    </tr>\n",
       "    <tr>\n",
       "      <th>2</th>\n",
       "      <td>28891</td>\n",
       "      <td>Haikyuu!! Second Season</td>\n",
       "      <td>TV</td>\n",
       "      <td>17</td>\n",
       "      <td>9</td>\n",
       "      <td>1</td>\n",
       "    </tr>\n",
       "    <tr>\n",
       "      <th>3</th>\n",
       "      <td>28891</td>\n",
       "      <td>Haikyuu!! Second Season</td>\n",
       "      <td>TV</td>\n",
       "      <td>38</td>\n",
       "      <td>10</td>\n",
       "      <td>1</td>\n",
       "    </tr>\n",
       "    <tr>\n",
       "      <th>4</th>\n",
       "      <td>28891</td>\n",
       "      <td>Haikyuu!! Second Season</td>\n",
       "      <td>TV</td>\n",
       "      <td>39</td>\n",
       "      <td>-1</td>\n",
       "      <td>0</td>\n",
       "    </tr>\n",
       "    <tr>\n",
       "      <th>5</th>\n",
       "      <td>28891</td>\n",
       "      <td>Haikyuu!! Second Season</td>\n",
       "      <td>TV</td>\n",
       "      <td>46</td>\n",
       "      <td>10</td>\n",
       "      <td>1</td>\n",
       "    </tr>\n",
       "    <tr>\n",
       "      <th>6</th>\n",
       "      <td>28891</td>\n",
       "      <td>Haikyuu!! Second Season</td>\n",
       "      <td>TV</td>\n",
       "      <td>54</td>\n",
       "      <td>-1</td>\n",
       "      <td>0</td>\n",
       "    </tr>\n",
       "    <tr>\n",
       "      <th>7</th>\n",
       "      <td>28891</td>\n",
       "      <td>Haikyuu!! Second Season</td>\n",
       "      <td>TV</td>\n",
       "      <td>62</td>\n",
       "      <td>10</td>\n",
       "      <td>1</td>\n",
       "    </tr>\n",
       "    <tr>\n",
       "      <th>8</th>\n",
       "      <td>28891</td>\n",
       "      <td>Haikyuu!! Second Season</td>\n",
       "      <td>TV</td>\n",
       "      <td>81</td>\n",
       "      <td>9</td>\n",
       "      <td>1</td>\n",
       "    </tr>\n",
       "    <tr>\n",
       "      <th>9</th>\n",
       "      <td>28891</td>\n",
       "      <td>Haikyuu!! Second Season</td>\n",
       "      <td>TV</td>\n",
       "      <td>123</td>\n",
       "      <td>9</td>\n",
       "      <td>1</td>\n",
       "    </tr>\n",
       "    <tr>\n",
       "      <th>10</th>\n",
       "      <td>28891</td>\n",
       "      <td>Haikyuu!! Second Season</td>\n",
       "      <td>TV</td>\n",
       "      <td>145</td>\n",
       "      <td>-1</td>\n",
       "      <td>0</td>\n",
       "    </tr>\n",
       "    <tr>\n",
       "      <th>11</th>\n",
       "      <td>28891</td>\n",
       "      <td>Haikyuu!! Second Season</td>\n",
       "      <td>TV</td>\n",
       "      <td>163</td>\n",
       "      <td>8</td>\n",
       "      <td>1</td>\n",
       "    </tr>\n",
       "    <tr>\n",
       "      <th>12</th>\n",
       "      <td>28891</td>\n",
       "      <td>Haikyuu!! Second Season</td>\n",
       "      <td>TV</td>\n",
       "      <td>183</td>\n",
       "      <td>9</td>\n",
       "      <td>1</td>\n",
       "    </tr>\n",
       "    <tr>\n",
       "      <th>13</th>\n",
       "      <td>28891</td>\n",
       "      <td>Haikyuu!! Second Season</td>\n",
       "      <td>TV</td>\n",
       "      <td>198</td>\n",
       "      <td>-1</td>\n",
       "      <td>0</td>\n",
       "    </tr>\n",
       "    <tr>\n",
       "      <th>14</th>\n",
       "      <td>28891</td>\n",
       "      <td>Haikyuu!! Second Season</td>\n",
       "      <td>TV</td>\n",
       "      <td>204</td>\n",
       "      <td>8</td>\n",
       "      <td>1</td>\n",
       "    </tr>\n",
       "  </tbody>\n",
       "</table>\n",
       "</div>"
      ],
      "text/plain": [
       "    anime_id                    title type  user_id  rating  has_rated\n",
       "0      28891  Haikyuu!! Second Season   TV        3       9          1\n",
       "1      28891  Haikyuu!! Second Season   TV        5       9          1\n",
       "2      28891  Haikyuu!! Second Season   TV       17       9          1\n",
       "3      28891  Haikyuu!! Second Season   TV       38      10          1\n",
       "4      28891  Haikyuu!! Second Season   TV       39      -1          0\n",
       "5      28891  Haikyuu!! Second Season   TV       46      10          1\n",
       "6      28891  Haikyuu!! Second Season   TV       54      -1          0\n",
       "7      28891  Haikyuu!! Second Season   TV       62      10          1\n",
       "8      28891  Haikyuu!! Second Season   TV       81       9          1\n",
       "9      28891  Haikyuu!! Second Season   TV      123       9          1\n",
       "10     28891  Haikyuu!! Second Season   TV      145      -1          0\n",
       "11     28891  Haikyuu!! Second Season   TV      163       8          1\n",
       "12     28891  Haikyuu!! Second Season   TV      183       9          1\n",
       "13     28891  Haikyuu!! Second Season   TV      198      -1          0\n",
       "14     28891  Haikyuu!! Second Season   TV      204       8          1"
      ]
     },
     "execution_count": 28,
     "metadata": {},
     "output_type": "execute_result"
    }
   ],
   "source": [
    "merged_v3.head(15)"
   ]
  },
  {
   "cell_type": "code",
   "execution_count": 29,
   "id": "3c3e818c",
   "metadata": {},
   "outputs": [],
   "source": [
    "merged_v3['rating'] = np.where(merged_v3['rating'] == -1, 0, merged_v3['rating'])"
   ]
  },
  {
   "cell_type": "code",
   "execution_count": 30,
   "id": "96bb9733",
   "metadata": {},
   "outputs": [
    {
     "data": {
      "text/html": [
       "<div>\n",
       "<style scoped>\n",
       "    .dataframe tbody tr th:only-of-type {\n",
       "        vertical-align: middle;\n",
       "    }\n",
       "\n",
       "    .dataframe tbody tr th {\n",
       "        vertical-align: top;\n",
       "    }\n",
       "\n",
       "    .dataframe thead th {\n",
       "        text-align: right;\n",
       "    }\n",
       "</style>\n",
       "<table border=\"1\" class=\"dataframe\">\n",
       "  <thead>\n",
       "    <tr style=\"text-align: right;\">\n",
       "      <th></th>\n",
       "      <th>anime_id</th>\n",
       "      <th>title</th>\n",
       "      <th>type</th>\n",
       "      <th>user_id</th>\n",
       "      <th>rating</th>\n",
       "      <th>has_rated</th>\n",
       "    </tr>\n",
       "  </thead>\n",
       "  <tbody>\n",
       "  </tbody>\n",
       "</table>\n",
       "</div>"
      ],
      "text/plain": [
       "Empty DataFrame\n",
       "Columns: [anime_id, title, type, user_id, rating, has_rated]\n",
       "Index: []"
      ]
     },
     "execution_count": 30,
     "metadata": {},
     "output_type": "execute_result"
    }
   ],
   "source": [
    "merged_v3[merged_v3.rating == -1]"
   ]
  },
  {
   "cell_type": "code",
   "execution_count": null,
   "id": "6c3043cc",
   "metadata": {},
   "outputs": [],
   "source": []
  },
  {
   "cell_type": "markdown",
   "id": "de76b0bb",
   "metadata": {},
   "source": [
    "Weighted Score = (v / (v + m)) * S + (m / (v + m)) * C\n",
    "- S = Average score for the anime/manga\n",
    "- v = Number users giving a score for the anime/manga †\n",
    "- m = Minimum number of scored users required to get a calculated score\n",
    "- C = The mean score across the entire Anime/Manga database"
   ]
  },
  {
   "cell_type": "code",
   "execution_count": 30,
   "id": "74205f0d",
   "metadata": {},
   "outputs": [],
   "source": [
    "most_watched = merged_v3.groupby([\"anime_id\",'title']).size().sort_values(ascending=False).reset_index().\\\n",
    "rename(columns={0:\"no_of_user_watched\"}).sort_values(by=\"no_of_user_watched\", ascending=False)\n",
    "mean_ratig_each_anime = merged_v3[merged_v3[\"rating\"] != 0].groupby([\"anime_id\", 'title']).agg({\"rating\": \"mean\",\"has_rated\": \"count\"}).reset_index()\n",
    "mean_ratig_each_anime = mean_ratig_each_anime.rename(columns={'rating':\"S\", \"has_rated\":\"v\"})\n",
    "C = mean_ratig_each_anime['S'].mean()\n",
    "weighted_mean = ((mean_ratig_each_anime['v'] * mean_ratig_each_anime['S']) + (50 * C)) / (mean_ratig_each_anime['v'] + 50)\n",
    "mean_ratig_each_anime['v'] * mean_ratig_each_anime['S']\n",
    "weighted_rating = pd.concat([mean_ratig_each_anime,weighted_mean], axis=1).rename(columns={0:\"weighted_rating\"})\n",
    "all_time_top_25 = weighted_rating.sort_values(by=\"weighted_rating\", ascending=False).head(25).drop([\"S\", 'v'], axis = 1)\n",
    "all_most_watched_25 = most_watched.head(25)"
   ]
  },
  {
   "cell_type": "code",
   "execution_count": 31,
   "id": "4348e937",
   "metadata": {},
   "outputs": [
    {
     "data": {
      "text/html": [
       "<div>\n",
       "<style scoped>\n",
       "    .dataframe tbody tr th:only-of-type {\n",
       "        vertical-align: middle;\n",
       "    }\n",
       "\n",
       "    .dataframe tbody tr th {\n",
       "        vertical-align: top;\n",
       "    }\n",
       "\n",
       "    .dataframe thead th {\n",
       "        text-align: right;\n",
       "    }\n",
       "</style>\n",
       "<table border=\"1\" class=\"dataframe\">\n",
       "  <thead>\n",
       "    <tr style=\"text-align: right;\">\n",
       "      <th></th>\n",
       "      <th>anime_id</th>\n",
       "      <th>title</th>\n",
       "      <th>no_of_user_watched</th>\n",
       "    </tr>\n",
       "  </thead>\n",
       "  <tbody>\n",
       "    <tr>\n",
       "      <th>0</th>\n",
       "      <td>1535</td>\n",
       "      <td>Death Note</td>\n",
       "      <td>39340</td>\n",
       "    </tr>\n",
       "    <tr>\n",
       "      <th>1</th>\n",
       "      <td>11757</td>\n",
       "      <td>Sword Art Online</td>\n",
       "      <td>30583</td>\n",
       "    </tr>\n",
       "    <tr>\n",
       "      <th>2</th>\n",
       "      <td>16498</td>\n",
       "      <td>Shingeki no Kyojin</td>\n",
       "      <td>29584</td>\n",
       "    </tr>\n",
       "    <tr>\n",
       "      <th>3</th>\n",
       "      <td>1575</td>\n",
       "      <td>Code Geass: Hangyaku no Lelouch</td>\n",
       "      <td>27718</td>\n",
       "    </tr>\n",
       "    <tr>\n",
       "      <th>4</th>\n",
       "      <td>226</td>\n",
       "      <td>Elfen Lied</td>\n",
       "      <td>27506</td>\n",
       "    </tr>\n",
       "    <tr>\n",
       "      <th>...</th>\n",
       "      <td>...</td>\n",
       "      <td>...</td>\n",
       "      <td>...</td>\n",
       "    </tr>\n",
       "    <tr>\n",
       "      <th>10205</th>\n",
       "      <td>33266</td>\n",
       "      <td>Nanocore</td>\n",
       "      <td>1</td>\n",
       "    </tr>\n",
       "    <tr>\n",
       "      <th>10204</th>\n",
       "      <td>18759</td>\n",
       "      <td>Captain Movie</td>\n",
       "      <td>1</td>\n",
       "    </tr>\n",
       "    <tr>\n",
       "      <th>10203</th>\n",
       "      <td>33272</td>\n",
       "      <td>Nanocore 2016 Xinnian Tebie Ban</td>\n",
       "      <td>1</td>\n",
       "    </tr>\n",
       "    <tr>\n",
       "      <th>10202</th>\n",
       "      <td>17835</td>\n",
       "      <td>Seito Shokun! Kokoro ni Midori no Neckerchief wo</td>\n",
       "      <td>1</td>\n",
       "    </tr>\n",
       "    <tr>\n",
       "      <th>11096</th>\n",
       "      <td>34519</td>\n",
       "      <td>Mobile Suit Gakuen: G-Reco Koushien</td>\n",
       "      <td>1</td>\n",
       "    </tr>\n",
       "  </tbody>\n",
       "</table>\n",
       "<p>11097 rows × 3 columns</p>\n",
       "</div>"
      ],
      "text/plain": [
       "       anime_id                                             title  \\\n",
       "0          1535                                        Death Note   \n",
       "1         11757                                  Sword Art Online   \n",
       "2         16498                                Shingeki no Kyojin   \n",
       "3          1575                   Code Geass: Hangyaku no Lelouch   \n",
       "4           226                                        Elfen Lied   \n",
       "...         ...                                               ...   \n",
       "10205     33266                                          Nanocore   \n",
       "10204     18759                                     Captain Movie   \n",
       "10203     33272                   Nanocore 2016 Xinnian Tebie Ban   \n",
       "10202     17835  Seito Shokun! Kokoro ni Midori no Neckerchief wo   \n",
       "11096     34519               Mobile Suit Gakuen: G-Reco Koushien   \n",
       "\n",
       "       no_of_user_watched  \n",
       "0                   39340  \n",
       "1                   30583  \n",
       "2                   29584  \n",
       "3                   27718  \n",
       "4                   27506  \n",
       "...                   ...  \n",
       "10205                   1  \n",
       "10204                   1  \n",
       "10203                   1  \n",
       "10202                   1  \n",
       "11096                   1  \n",
       "\n",
       "[11097 rows x 3 columns]"
      ]
     },
     "execution_count": 31,
     "metadata": {},
     "output_type": "execute_result"
    }
   ],
   "source": [
    "most_watched"
   ]
  },
  {
   "cell_type": "code",
   "execution_count": 32,
   "id": "07769187",
   "metadata": {},
   "outputs": [],
   "source": [
    "merged_v2 = merged_v2.merge(most_watched[[\"anime_id\", \"no_of_user_watched\"]],on =\"anime_id\", how=\"left\" ).\\\n",
    "merge(weighted_rating[['anime_id', \"weighted_rating\"]],on =\"anime_id\", how=\"left\")"
   ]
  },
  {
   "cell_type": "markdown",
   "id": "a76fc05e",
   "metadata": {},
   "source": [
    "# Content Based"
   ]
  },
  {
   "cell_type": "code",
   "execution_count": 33,
   "id": "6ca62f7d",
   "metadata": {},
   "outputs": [],
   "source": [
    "import ast"
   ]
  },
  {
   "cell_type": "code",
   "execution_count": 34,
   "id": "41e0f155",
   "metadata": {},
   "outputs": [],
   "source": [
    "content = merged_v2[[\"anime_id\",'title'\t,'synopsis'\t,'genre_x'\t ,'aired'\t,'episodes_x','type']]\n"
   ]
  },
  {
   "cell_type": "code",
   "execution_count": 35,
   "id": "894f4bbf",
   "metadata": {},
   "outputs": [
    {
     "data": {
      "text/plain": [
       "anime_id        0\n",
       "title           0\n",
       "synopsis      322\n",
       "genre_x         0\n",
       "aired           0\n",
       "episodes_x     62\n",
       "type           24\n",
       "dtype: int64"
      ]
     },
     "execution_count": 35,
     "metadata": {},
     "output_type": "execute_result"
    }
   ],
   "source": [
    "content.isna().sum()"
   ]
  },
  {
   "cell_type": "code",
   "execution_count": 36,
   "id": "8d0d58d0",
   "metadata": {},
   "outputs": [
    {
     "name": "stderr",
     "output_type": "stream",
     "text": [
      "C:\\Users\\shrey\\AppData\\Local\\Temp\\ipykernel_14344\\850030090.py:1: SettingWithCopyWarning: \n",
      "A value is trying to be set on a copy of a slice from a DataFrame.\n",
      "Try using .loc[row_indexer,col_indexer] = value instead\n",
      "\n",
      "See the caveats in the documentation: https://pandas.pydata.org/pandas-docs/stable/user_guide/indexing.html#returning-a-view-versus-a-copy\n",
      "  content[\"synopsis\"] = content[\"synopsis\"].fillna('no description available')\n",
      "C:\\Users\\shrey\\AppData\\Local\\Temp\\ipykernel_14344\\850030090.py:2: SettingWithCopyWarning: \n",
      "A value is trying to be set on a copy of a slice from a DataFrame.\n",
      "Try using .loc[row_indexer,col_indexer] = value instead\n",
      "\n",
      "See the caveats in the documentation: https://pandas.pydata.org/pandas-docs/stable/user_guide/indexing.html#returning-a-view-versus-a-copy\n",
      "  content['type'] = content['type'].fillna(\" no details available\")\n"
     ]
    }
   ],
   "source": [
    "content[\"synopsis\"] = content[\"synopsis\"].fillna('no description available')\n",
    "content['type'] = content['type'].fillna(\" no details available\")"
   ]
  },
  {
   "cell_type": "code",
   "execution_count": 37,
   "id": "608fea52",
   "metadata": {},
   "outputs": [
    {
     "data": {
      "text/plain": [
       "\"['Comedy', 'Sports', 'Drama', 'School', 'Shounen']\""
      ]
     },
     "execution_count": 37,
     "metadata": {},
     "output_type": "execute_result"
    }
   ],
   "source": [
    "content['genre_x'][0]"
   ]
  },
  {
   "cell_type": "code",
   "execution_count": 38,
   "id": "842fc107",
   "metadata": {},
   "outputs": [
    {
     "name": "stderr",
     "output_type": "stream",
     "text": [
      "C:\\Users\\shrey\\AppData\\Local\\Temp\\ipykernel_14344\\233961510.py:1: SettingWithCopyWarning: \n",
      "A value is trying to be set on a copy of a slice from a DataFrame.\n",
      "Try using .loc[row_indexer,col_indexer] = value instead\n",
      "\n",
      "See the caveats in the documentation: https://pandas.pydata.org/pandas-docs/stable/user_guide/indexing.html#returning-a-view-versus-a-copy\n",
      "  content['genre_x'] = content['genre_x'].apply(lambda x: ast.literal_eval(x) if pd.notnull(x) else [])\n"
     ]
    }
   ],
   "source": [
    "content['genre_x'] = content['genre_x'].apply(lambda x: ast.literal_eval(x) if pd.notnull(x) else [])"
   ]
  },
  {
   "cell_type": "code",
   "execution_count": 39,
   "id": "146079f3",
   "metadata": {},
   "outputs": [
    {
     "data": {
      "text/plain": [
       "['Comedy', 'Sports', 'Drama', 'School', 'Shounen']"
      ]
     },
     "execution_count": 39,
     "metadata": {},
     "output_type": "execute_result"
    }
   ],
   "source": [
    "content['genre_x'][0]"
   ]
  },
  {
   "cell_type": "code",
   "execution_count": 40,
   "id": "fa83a228",
   "metadata": {},
   "outputs": [
    {
     "name": "stderr",
     "output_type": "stream",
     "text": [
      "C:\\Users\\shrey\\AppData\\Local\\Temp\\ipykernel_14344\\3199652274.py:1: SettingWithCopyWarning: \n",
      "A value is trying to be set on a copy of a slice from a DataFrame.\n",
      "Try using .loc[row_indexer,col_indexer] = value instead\n",
      "\n",
      "See the caveats in the documentation: https://pandas.pydata.org/pandas-docs/stable/user_guide/indexing.html#returning-a-view-versus-a-copy\n",
      "  content['title'] = content['title'].apply(lambda x: [x])\n",
      "C:\\Users\\shrey\\AppData\\Local\\Temp\\ipykernel_14344\\3199652274.py:2: SettingWithCopyWarning: \n",
      "A value is trying to be set on a copy of a slice from a DataFrame.\n",
      "Try using .loc[row_indexer,col_indexer] = value instead\n",
      "\n",
      "See the caveats in the documentation: https://pandas.pydata.org/pandas-docs/stable/user_guide/indexing.html#returning-a-view-versus-a-copy\n",
      "  content['synopsis'] = content['synopsis'].apply(lambda x: [x])\n"
     ]
    }
   ],
   "source": [
    "content['title'] = content['title'].apply(lambda x: [x])\n",
    "content['synopsis'] = content['synopsis'].apply(lambda x: [x])"
   ]
  },
  {
   "cell_type": "code",
   "execution_count": 41,
   "id": "a90926e7",
   "metadata": {},
   "outputs": [
    {
     "name": "stderr",
     "output_type": "stream",
     "text": [
      "C:\\Users\\shrey\\AppData\\Local\\Temp\\ipykernel_14344\\3779661745.py:1: SettingWithCopyWarning: \n",
      "A value is trying to be set on a copy of a slice from a DataFrame.\n",
      "Try using .loc[row_indexer,col_indexer] = value instead\n",
      "\n",
      "See the caveats in the documentation: https://pandas.pydata.org/pandas-docs/stable/user_guide/indexing.html#returning-a-view-versus-a-copy\n",
      "  content['type'] = content['type'].apply(lambda x: [x])\n"
     ]
    }
   ],
   "source": [
    "content['type'] = content['type'].apply(lambda x: [x])"
   ]
  },
  {
   "cell_type": "code",
   "execution_count": 42,
   "id": "ad249d79",
   "metadata": {},
   "outputs": [
    {
     "name": "stderr",
     "output_type": "stream",
     "text": [
      "C:\\Users\\shrey\\AppData\\Local\\Temp\\ipykernel_14344\\2881828322.py:1: SettingWithCopyWarning: \n",
      "A value is trying to be set on a copy of a slice from a DataFrame.\n",
      "Try using .loc[row_indexer,col_indexer] = value instead\n",
      "\n",
      "See the caveats in the documentation: https://pandas.pydata.org/pandas-docs/stable/user_guide/indexing.html#returning-a-view-versus-a-copy\n",
      "  content[\"tags\"] = content[\"synopsis\"] + content[\"genre_x\"] + content[\"title\"] + content[\"type\"]\n"
     ]
    }
   ],
   "source": [
    "content[\"tags\"] = content[\"synopsis\"] + content[\"genre_x\"] + content[\"title\"] + content[\"type\"]"
   ]
  },
  {
   "cell_type": "code",
   "execution_count": 43,
   "id": "8b6aeac3",
   "metadata": {},
   "outputs": [
    {
     "data": {
      "text/plain": [
       "anime_id       0\n",
       "title          0\n",
       "synopsis       0\n",
       "genre_x        0\n",
       "aired          0\n",
       "episodes_x    62\n",
       "type           0\n",
       "tags           0\n",
       "dtype: int64"
      ]
     },
     "execution_count": 43,
     "metadata": {},
     "output_type": "execute_result"
    }
   ],
   "source": [
    "content.isna().sum()"
   ]
  },
  {
   "cell_type": "code",
   "execution_count": 44,
   "id": "7b1005e9",
   "metadata": {},
   "outputs": [
    {
     "name": "stderr",
     "output_type": "stream",
     "text": [
      "C:\\Users\\shrey\\AppData\\Local\\Temp\\ipykernel_14344\\3467092650.py:1: SettingWithCopyWarning: \n",
      "A value is trying to be set on a copy of a slice from a DataFrame.\n",
      "Try using .loc[row_indexer,col_indexer] = value instead\n",
      "\n",
      "See the caveats in the documentation: https://pandas.pydata.org/pandas-docs/stable/user_guide/indexing.html#returning-a-view-versus-a-copy\n",
      "  content['tags'] = content['tags'].apply(lambda tags: \" \".join(tags))\n"
     ]
    }
   ],
   "source": [
    "content['tags'] = content['tags'].apply(lambda tags: \" \".join(tags))\n"
   ]
  },
  {
   "cell_type": "code",
   "execution_count": 45,
   "id": "ddfaf4ed",
   "metadata": {},
   "outputs": [],
   "source": [
    "from nltk.tokenize import word_tokenize\n",
    "from nltk.stem import PorterStemmer , WordNetLemmatizer\n"
   ]
  },
  {
   "cell_type": "code",
   "execution_count": 46,
   "id": "96700670",
   "metadata": {},
   "outputs": [
    {
     "data": {
      "text/plain": [
       "0        Following their participation at the Inter-Hig...\n",
       "1        Music accompanies the path of the human metron...\n",
       "2        \"In order for something to be obtained, someth...\n",
       "3        After helping revive the legendary vampire Kis...\n",
       "4        Stubborn, spoiled, and naïve, 10-year-old Chih...\n",
       "                               ...                        \n",
       "12174    Two years ago, Junichi Tachibana had a date on...\n",
       "12175    All-new animation offered throughout UNIQLO cl...\n",
       "12176    After regaining her squid-like abilities, Ika ...\n",
       "12177    For years, the Niflheim Empire and the kingdom...\n",
       "12178    Although Yuuta Togashi and Rikka Takanashi hav...\n",
       "Name: tags, Length: 12179, dtype: object"
      ]
     },
     "execution_count": 46,
     "metadata": {},
     "output_type": "execute_result"
    }
   ],
   "source": [
    "content[\"tags\"]"
   ]
  },
  {
   "cell_type": "code",
   "execution_count": 47,
   "id": "a6df8028",
   "metadata": {},
   "outputs": [],
   "source": [
    "import string\n",
    "from nltk.corpus import stopwords"
   ]
  },
  {
   "cell_type": "code",
   "execution_count": 48,
   "id": "526e5178",
   "metadata": {},
   "outputs": [],
   "source": [
    "ps = PorterStemmer()\n",
    "lemmatizer = WordNetLemmatizer()"
   ]
  },
  {
   "cell_type": "code",
   "execution_count": 49,
   "id": "c0d643b3",
   "metadata": {},
   "outputs": [],
   "source": [
    "stop_words = (set(stopwords.words(\"english\")))"
   ]
  },
  {
   "cell_type": "code",
   "execution_count": 50,
   "id": "459c68bd",
   "metadata": {},
   "outputs": [],
   "source": [
    "def process(text):\n",
    "    text = text.lower()\n",
    "    text = word_tokenize(text)\n",
    "    \n",
    "    y = []\n",
    "    for i in text:\n",
    "        if i.isalnum():\n",
    "            y.append(i)\n",
    "            \n",
    "    text =y[:]\n",
    "    y.clear()\n",
    "    \n",
    "    for i in text:\n",
    "        if i not in stop_words and i not in string.punctuation:\n",
    "            y.append(ps.stem(i))\n",
    "            \n",
    "    return \" \".join(y)\n",
    "    "
   ]
  },
  {
   "cell_type": "code",
   "execution_count": 51,
   "id": "24976f4e",
   "metadata": {},
   "outputs": [
    {
     "name": "stderr",
     "output_type": "stream",
     "text": [
      "C:\\Users\\shrey\\AppData\\Local\\Temp\\ipykernel_14344\\464806536.py:1: SettingWithCopyWarning: \n",
      "A value is trying to be set on a copy of a slice from a DataFrame.\n",
      "Try using .loc[row_indexer,col_indexer] = value instead\n",
      "\n",
      "See the caveats in the documentation: https://pandas.pydata.org/pandas-docs/stable/user_guide/indexing.html#returning-a-view-versus-a-copy\n",
      "  content[\"tags\"] = content[\"tags\"].apply(process)\n"
     ]
    }
   ],
   "source": [
    "content[\"tags\"] = content[\"tags\"].apply(process)"
   ]
  },
  {
   "cell_type": "code",
   "execution_count": 52,
   "id": "e8e12645",
   "metadata": {},
   "outputs": [],
   "source": [
    "from sklearn.feature_extraction.text import CountVectorizer , TfidfVectorizer"
   ]
  },
  {
   "cell_type": "code",
   "execution_count": 53,
   "id": "c902a5e5",
   "metadata": {},
   "outputs": [],
   "source": [
    "tf = TfidfVectorizer(max_features=5000)"
   ]
  },
  {
   "cell_type": "code",
   "execution_count": 54,
   "id": "13d4aeda",
   "metadata": {},
   "outputs": [],
   "source": [
    "vector = tf.fit_transform(content[\"tags\"])"
   ]
  },
  {
   "cell_type": "code",
   "execution_count": 55,
   "id": "b9eec502",
   "metadata": {},
   "outputs": [],
   "source": [
    "from sklearn.metrics.pairwise import cosine_similarity"
   ]
  },
  {
   "cell_type": "code",
   "execution_count": 56,
   "id": "63cd23b7",
   "metadata": {},
   "outputs": [],
   "source": [
    "similarity = cosine_similarity(vector)"
   ]
  },
  {
   "cell_type": "code",
   "execution_count": 57,
   "id": "5d1b7923",
   "metadata": {},
   "outputs": [],
   "source": [
    "def search_titles(title):\n",
    "    \n",
    "    title_index = merged_v2[merged_v2[\"title\"] == title].index[0]\n",
    "    similiarity_score = similarity[title_index]\n",
    "    similar_title = sorted(list(enumerate(similiarity_score)), key = lambda x: x[1], reverse =True)[1:101]\n",
    "\n",
    "    df = pd.DataFrame(columns=merged_v2.columns)\n",
    "    for i in similar_title:\n",
    "        df = pd.concat([df, merged_v2[merged_v2.index == i[0]]], axis=0)\n",
    "        \n",
    "    return df"
   ]
  },
  {
   "cell_type": "code",
   "execution_count": 58,
   "id": "f7804e4a",
   "metadata": {},
   "outputs": [],
   "source": [
    "returned_df = search_titles('Doraemon')"
   ]
  },
  {
   "cell_type": "code",
   "execution_count": 59,
   "id": "69f5fb31",
   "metadata": {},
   "outputs": [],
   "source": [
    "def top_anime(df):\n",
    "    ova_df = pd.DataFrame(columns= merged_v2.columns)\n",
    "    tv_df = pd.DataFrame(columns= merged_v2.columns)\n",
    "    movie_df = pd.DataFrame(columns= merged_v2.columns)\n",
    "    special_df = pd.DataFrame(columns= merged_v2.columns)\n",
    "    ona_df = pd.DataFrame(columns= merged_v2.columns)\n",
    "    music_df = pd.DataFrame(columns= merged_v2.columns)\n",
    "    \n",
    "    for i in ['OVA', 'TV', 'Movie', 'Special', 'ONA', 'Music']:\n",
    "        filtered_df = df[df[\"type\"] == i].head(10)\n",
    "        \n",
    "        if i == \"OVA\":\n",
    "            ova_df = pd.concat([ova_df, filtered_df], axis=0)\n",
    "        if i == \"TV\":\n",
    "            tv_df = pd.concat([tv_df, filtered_df], axis=0)\n",
    "        if i == \"Movie\":\n",
    "            movie_df = pd.concat([movie_df, filtered_df], axis=0)\n",
    "        if i == \"Special\":\n",
    "            special_df = pd.concat([special_df, filtered_df], axis=0)\n",
    "        if i == \"ONA\":\n",
    "            ona_df = pd.concat([ona_df, filtered_df], axis=0)\n",
    "        if i == \"Music\":\n",
    "            music_df = pd.concat([music_df, filtered_df], axis=0)\n",
    "            \n",
    "    return tv_df, ona_df , ova_df ,  movie_df , music_df , special_df"
   ]
  },
  {
   "cell_type": "code",
   "execution_count": 60,
   "id": "ac8b3950",
   "metadata": {},
   "outputs": [],
   "source": [
    "tv_df, ona_df , ova_df ,  movie_df , music_df , special_df = top_anime(returned_df)"
   ]
  },
  {
   "cell_type": "code",
   "execution_count": 72,
   "id": "066b8a1c",
   "metadata": {},
   "outputs": [
    {
     "data": {
      "text/plain": [
       "\"['Action', 'Adventure', 'Demons', 'Fantasy', 'Sci-Fi', 'Shounen', 'Super Power']\""
      ]
     },
     "execution_count": 72,
     "metadata": {},
     "output_type": "execute_result"
    }
   ],
   "source": [
    "merged_v2[merged_v2['type'] ==\"OVA\"][\"genre_x\"][17]"
   ]
  },
  {
   "cell_type": "code",
   "execution_count": null,
   "id": "76f2c349",
   "metadata": {},
   "outputs": [],
   "source": []
  },
  {
   "cell_type": "code",
   "execution_count": 62,
   "id": "3fab414f",
   "metadata": {},
   "outputs": [
    {
     "ename": "NameError",
     "evalue": "name 'pickle' is not defined",
     "output_type": "error",
     "traceback": [
      "\u001b[1;31m---------------------------------------------------------------------------\u001b[0m",
      "\u001b[1;31mNameError\u001b[0m                                 Traceback (most recent call last)",
      "Cell \u001b[1;32mIn[62], line 1\u001b[0m\n\u001b[1;32m----> 1\u001b[0m pickle\u001b[38;5;241m.\u001b[39mdump(similarity, \u001b[38;5;28mopen\u001b[39m(\u001b[38;5;124m'\u001b[39m\u001b[38;5;124msimilarity.pkl\u001b[39m\u001b[38;5;124m'\u001b[39m, \u001b[38;5;124m\"\u001b[39m\u001b[38;5;124mwb\u001b[39m\u001b[38;5;124m\"\u001b[39m))\n",
      "\u001b[1;31mNameError\u001b[0m: name 'pickle' is not defined"
     ]
    }
   ],
   "source": [
    "# pickle.dump(similarity, open('similarity.pkl', \"wb\"))"
   ]
  },
  {
   "cell_type": "code",
   "execution_count": 63,
   "id": "79850d8a",
   "metadata": {},
   "outputs": [],
   "source": [
    "import pickle \n",
    "pickle.dump(merged_v2, open(\"anime_df.pkl\", \"wb\"))"
   ]
  },
  {
   "cell_type": "code",
   "execution_count": 66,
   "id": "64a9ffd2",
   "metadata": {},
   "outputs": [
    {
     "data": {
      "text/plain": [
       "11998    False\n",
       "10000    False\n",
       "10307    False\n",
       "10196    False\n",
       "4263     False\n",
       "7940     False\n",
       "10397    False\n",
       "8108     False\n",
       "7551     False\n",
       "10166    False\n",
       "Name: type, dtype: bool"
      ]
     },
     "execution_count": 66,
     "metadata": {},
     "output_type": "execute_result"
    }
   ],
   "source": [
    "special_df[\"type\"]"
   ]
  },
  {
   "cell_type": "code",
   "execution_count": null,
   "id": "997037ab",
   "metadata": {},
   "outputs": [],
   "source": []
  }
 ],
 "metadata": {
  "kernelspec": {
   "display_name": "Python 3 (ipykernel)",
   "language": "python",
   "name": "python3"
  },
  "language_info": {
   "codemirror_mode": {
    "name": "ipython",
    "version": 3
   },
   "file_extension": ".py",
   "mimetype": "text/x-python",
   "name": "python",
   "nbconvert_exporter": "python",
   "pygments_lexer": "ipython3",
   "version": "3.11.5"
  }
 },
 "nbformat": 4,
 "nbformat_minor": 5
}
